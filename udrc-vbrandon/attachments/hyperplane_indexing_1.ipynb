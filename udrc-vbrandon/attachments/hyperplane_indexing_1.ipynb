{
 "cells": [
  {
   "attachments": {},
   "cell_type": "markdown",
   "metadata": {},
   "source": [
    "# Hyperplane Identity Indexing\n",
    "We look at the impact of default values and normalization on indexing in the identity space"
   ]
  },
  {
   "attachments": {},
   "cell_type": "markdown",
   "metadata": {},
   "source": [
    "1. Simple string vect[0], ssn_int, student_id_int\n",
    "2. Norms\n",
    "3. Defaults mapping\n",
    "4. Plots"
   ]
  },
  {
   "cell_type": "code",
   "execution_count": 1,
   "metadata": {},
   "outputs": [
    {
     "data": {
      "text/html": [
       "<div>\n",
       "<style scoped>\n",
       "    .dataframe tbody tr th:only-of-type {\n",
       "        vertical-align: middle;\n",
       "    }\n",
       "\n",
       "    .dataframe tbody tr th {\n",
       "        vertical-align: top;\n",
       "    }\n",
       "\n",
       "    .dataframe thead th {\n",
       "        text-align: right;\n",
       "    }\n",
       "</style>\n",
       "<table border=\"1\" class=\"dataframe\">\n",
       "  <thead>\n",
       "    <tr style=\"text-align: right;\">\n",
       "      <th></th>\n",
       "      <th>count_a</th>\n",
       "      <th>ssn</th>\n",
       "      <th>gender</th>\n",
       "    </tr>\n",
       "  </thead>\n",
       "  <tbody>\n",
       "    <tr>\n",
       "      <th>0</th>\n",
       "      <td>2</td>\n",
       "      <td>602273880</td>\n",
       "      <td>0</td>\n",
       "    </tr>\n",
       "    <tr>\n",
       "      <th>1</th>\n",
       "      <td>2</td>\n",
       "      <td>611761756</td>\n",
       "      <td>0</td>\n",
       "    </tr>\n",
       "  </tbody>\n",
       "</table>\n",
       "</div>"
      ],
      "text/plain": [
       "   count_a        ssn  gender\n",
       "0        2  602273880       0\n",
       "1        2  611761756       0"
      ]
     },
     "execution_count": 1,
     "metadata": {},
     "output_type": "execute_result"
    }
   ],
   "source": [
    "# synthetic data\n",
    "import numpy as np\n",
    "import pandas as pd\n",
    "\n",
    "# defaults will be the low values\n",
    "\n",
    "defaults = {\n",
    "    'count_a': 0,\n",
    "    'ssn': 333333333,\n",
    "    'gender': 0,\n",
    "}\n",
    "\n",
    "def create_data(n, seed=0) -> pd.DataFrame:\n",
    "    data = {}\n",
    "    data['count_a'] = np.random.randint(low=defaults['count_a'], high=5, size=n)\n",
    "    data['ssn'] = np.random.randint(low=defaults['ssn'], high=999999999, size=n)\n",
    "    data['gender'] = np.random.randint(low=defaults['gender'], high=2, size=n)\n",
    "    return pd.DataFrame(data)\n",
    "\n",
    "data = create_data(1000)\n",
    "data.head(2)"
   ]
  },
  {
   "cell_type": "code",
   "execution_count": 7,
   "metadata": {},
   "outputs": [
    {
     "data": {
      "text/html": [
       "<div>\n",
       "<style scoped>\n",
       "    .dataframe tbody tr th:only-of-type {\n",
       "        vertical-align: middle;\n",
       "    }\n",
       "\n",
       "    .dataframe tbody tr th {\n",
       "        vertical-align: top;\n",
       "    }\n",
       "\n",
       "    .dataframe thead th {\n",
       "        text-align: right;\n",
       "    }\n",
       "</style>\n",
       "<table border=\"1\" class=\"dataframe\">\n",
       "  <thead>\n",
       "    <tr style=\"text-align: right;\">\n",
       "      <th></th>\n",
       "      <th>count_a</th>\n",
       "      <th>ssn</th>\n",
       "      <th>gender</th>\n",
       "    </tr>\n",
       "  </thead>\n",
       "  <tbody>\n",
       "    <tr>\n",
       "      <th>count</th>\n",
       "      <td>1000.000000</td>\n",
       "      <td>1000.000000</td>\n",
       "      <td>1000.000000</td>\n",
       "    </tr>\n",
       "    <tr>\n",
       "      <th>mean</th>\n",
       "      <td>0.499000</td>\n",
       "      <td>0.499292</td>\n",
       "      <td>0.483000</td>\n",
       "    </tr>\n",
       "    <tr>\n",
       "      <th>std</th>\n",
       "      <td>0.360561</td>\n",
       "      <td>0.286901</td>\n",
       "      <td>0.499961</td>\n",
       "    </tr>\n",
       "    <tr>\n",
       "      <th>min</th>\n",
       "      <td>0.000000</td>\n",
       "      <td>0.000000</td>\n",
       "      <td>0.000000</td>\n",
       "    </tr>\n",
       "    <tr>\n",
       "      <th>25%</th>\n",
       "      <td>0.250000</td>\n",
       "      <td>0.246149</td>\n",
       "      <td>0.000000</td>\n",
       "    </tr>\n",
       "    <tr>\n",
       "      <th>50%</th>\n",
       "      <td>0.500000</td>\n",
       "      <td>0.486932</td>\n",
       "      <td>0.000000</td>\n",
       "    </tr>\n",
       "    <tr>\n",
       "      <th>75%</th>\n",
       "      <td>0.750000</td>\n",
       "      <td>0.746510</td>\n",
       "      <td>1.000000</td>\n",
       "    </tr>\n",
       "    <tr>\n",
       "      <th>max</th>\n",
       "      <td>1.000000</td>\n",
       "      <td>1.000000</td>\n",
       "      <td>1.000000</td>\n",
       "    </tr>\n",
       "  </tbody>\n",
       "</table>\n",
       "</div>"
      ],
      "text/plain": [
       "           count_a          ssn       gender\n",
       "count  1000.000000  1000.000000  1000.000000\n",
       "mean      0.499000     0.499292     0.483000\n",
       "std       0.360561     0.286901     0.499961\n",
       "min       0.000000     0.000000     0.000000\n",
       "25%       0.250000     0.246149     0.000000\n",
       "50%       0.500000     0.486932     0.000000\n",
       "75%       0.750000     0.746510     1.000000\n",
       "max       1.000000     1.000000     1.000000"
      ]
     },
     "execution_count": 7,
     "metadata": {},
     "output_type": "execute_result"
    }
   ],
   "source": [
    "# normalize the data\n",
    "\n",
    "from sklearn.preprocessing import MinMaxScaler\n",
    "\n",
    "def normalize_data(data: pd.DataFrame) -> pd.DataFrame:\n",
    "    scaler = MinMaxScaler()\n",
    "    data = pd.DataFrame(scaler.fit_transform(data), columns=data.columns)\n",
    "    return data\n",
    "\n",
    "data = normalize_data(data)\n",
    "data.describe()"
   ]
  },
  {
   "cell_type": "code",
   "execution_count": 8,
   "metadata": {},
   "outputs": [
    {
     "ename": "TypeError",
     "evalue": "unsupported operand type(s) for -: 'list' and 'list'",
     "output_type": "error",
     "traceback": [
      "\u001b[0;31m---------------------------------------------------------------------------\u001b[0m",
      "\u001b[0;31mTypeError\u001b[0m                                 Traceback (most recent call last)",
      "Cell \u001b[0;32mIn [8], line 11\u001b[0m\n\u001b[1;32m      8\u001b[0m point3 \u001b[39m=\u001b[39m [\u001b[39m3\u001b[39m, \u001b[39m4\u001b[39m, \u001b[39m5\u001b[39m]\n\u001b[1;32m     10\u001b[0m \u001b[39m# Create a normal vector for the plane\u001b[39;00m\n\u001b[0;32m---> 11\u001b[0m normal \u001b[39m=\u001b[39m np\u001b[39m.\u001b[39mcross(point2 \u001b[39m-\u001b[39;49m point1, point3 \u001b[39m-\u001b[39m point1)\n\u001b[1;32m     13\u001b[0m \u001b[39m# Create a grid of points for the plane\u001b[39;00m\n\u001b[1;32m     14\u001b[0m x, y \u001b[39m=\u001b[39m np\u001b[39m.\u001b[39mmeshgrid(np\u001b[39m.\u001b[39mlinspace(\u001b[39m-\u001b[39m\u001b[39m5\u001b[39m, \u001b[39m5\u001b[39m, \u001b[39m10\u001b[39m), np\u001b[39m.\u001b[39mlinspace(\u001b[39m-\u001b[39m\u001b[39m5\u001b[39m, \u001b[39m5\u001b[39m, \u001b[39m10\u001b[39m))\n",
      "\u001b[0;31mTypeError\u001b[0m: unsupported operand type(s) for -: 'list' and 'list'"
     ]
    }
   ],
   "source": [
    "import numpy as np\n",
    "import matplotlib.pyplot as plt\n",
    "from mpl_toolkits.mplot3d import Axes3D\n",
    "\n",
    "# Define the three points on the plane\n",
    "point1 = np.array([1, 2, 3])\n",
    "point2 = np.array([2, 3, 4])\n",
    "point3 = np.array([3, 4, 5])\n",
    "\n",
    "# Create a normal vector for the plane\n",
    "normal = np.cross(point2 - point1, point3 - point1)\n",
    "\n",
    "# Create a grid of points for the plane\n",
    "x, y = np.meshgrid(np.linspace(-5, 5, 10), np.linspace(-5, 5, 10))\n",
    "z = (-normal[0] * x - normal[1] * y - np.dot(normal, point1)) * 1. / normal[2]\n",
    "\n",
    "# Create a figure and axis\n",
    "fig = plt.figure()\n",
    "ax = fig.add_subplot(111, projection='3d')\n",
    "\n",
    "# Plot the plane\n",
    "ax.plot_surface(x, y, z)\n",
    "\n",
    "# Show the plot\n",
    "plt.show()"
   ]
  },
  {
   "cell_type": "code",
   "execution_count": null,
   "metadata": {},
   "outputs": [],
   "source": []
  },
  {
   "cell_type": "code",
   "execution_count": null,
   "metadata": {},
   "outputs": [],
   "source": []
  },
  {
   "cell_type": "code",
   "execution_count": null,
   "metadata": {},
   "outputs": [],
   "source": []
  },
  {
   "cell_type": "code",
   "execution_count": null,
   "metadata": {},
   "outputs": [],
   "source": []
  }
 ],
 "metadata": {
  "kernelspec": {
   "display_name": "base",
   "language": "python",
   "name": "python3"
  },
  "language_info": {
   "codemirror_mode": {
    "name": "ipython",
    "version": 3
   },
   "file_extension": ".py",
   "mimetype": "text/x-python",
   "name": "python",
   "nbconvert_exporter": "python",
   "pygments_lexer": "ipython3",
   "version": "3.9.12"
  },
  "orig_nbformat": 4,
  "vscode": {
   "interpreter": {
    "hash": "4d62c788cea7552bc82a0de13da0b6c19dfb379fda084475c256ff346f0ed354"
   }
  }
 },
 "nbformat": 4,
 "nbformat_minor": 2
}
